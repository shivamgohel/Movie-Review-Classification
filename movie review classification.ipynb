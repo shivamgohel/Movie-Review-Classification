{
 "cells": [
  {
   "cell_type": "code",
   "execution_count": 1,
   "id": "5780f176",
   "metadata": {},
   "outputs": [],
   "source": [
    "import pandas as pd\n",
    "import numpy as np"
   ]
  },
  {
   "cell_type": "markdown",
   "id": "41cbe917",
   "metadata": {},
   "source": [
    "## Loading The Data"
   ]
  },
  {
   "cell_type": "code",
   "execution_count": 2,
   "id": "5fe3be22",
   "metadata": {},
   "outputs": [],
   "source": [
    "df = pd.read_csv(\"movie_reviewdataset_50K.csv\")\n",
    "df = df[0:1000]"
   ]
  },
  {
   "cell_type": "markdown",
   "id": "35307738",
   "metadata": {},
   "source": [
    "## Cleaning The Data (NLTK)"
   ]
  },
  {
   "cell_type": "code",
   "execution_count": 3,
   "id": "58de3b0e",
   "metadata": {},
   "outputs": [],
   "source": [
    "from nltk.tokenize import RegexpTokenizer\n",
    "from nltk.stem.porter import PorterStemmer\n",
    "from nltk.corpus import stopwords"
   ]
  },
  {
   "cell_type": "code",
   "execution_count": 4,
   "id": "351d9b5b",
   "metadata": {},
   "outputs": [],
   "source": [
    "# Init Objects\n",
    "tokenizer = RegexpTokenizer(r'\\w+')\n",
    "en_stopwords = set(stopwords.words('english'))\n",
    "ps = PorterStemmer()"
   ]
  },
  {
   "cell_type": "code",
   "execution_count": 5,
   "id": "c2e1ab85",
   "metadata": {},
   "outputs": [],
   "source": [
    "def CleanReview(review):\n",
    "    review = review.lower()\n",
    "    \n",
    "    #Tokenize\n",
    "    tokens = tokenizer.tokenize(review)\n",
    "    new_tokens = [token for token in tokens if token not in en_stopwords]\n",
    "    stemmed_tokens = [ps.stem(token) for token in new_tokens]\n",
    "    \n",
    "    clean_review = ' '.join(stemmed_tokens)\n",
    "    return clean_review"
   ]
  },
  {
   "cell_type": "code",
   "execution_count": 6,
   "id": "72747f00",
   "metadata": {},
   "outputs": [],
   "source": [
    "df['review'] = df['review'].apply(CleanReview)"
   ]
  },
  {
   "cell_type": "markdown",
   "id": "6491f71d",
   "metadata": {},
   "source": [
    "# Vectorization"
   ]
  },
  {
   "cell_type": "code",
   "execution_count": 7,
   "id": "a2f35362",
   "metadata": {},
   "outputs": [],
   "source": [
    "from sklearn.feature_extraction.text import CountVectorizer"
   ]
  },
  {
   "cell_type": "code",
   "execution_count": 8,
   "id": "48df7be5",
   "metadata": {},
   "outputs": [],
   "source": [
    "cv = CountVectorizer()"
   ]
  },
  {
   "cell_type": "code",
   "execution_count": 9,
   "id": "ded3f8e5",
   "metadata": {},
   "outputs": [
    {
     "name": "stdout",
     "output_type": "stream",
     "text": [
      "(1000, 12571)\n"
     ]
    }
   ],
   "source": [
    "reviews = cv.fit_transform(df['review']).toarray()\n",
    "print(reviews.shape)"
   ]
  },
  {
   "cell_type": "markdown",
   "id": "b4cc2103",
   "metadata": {},
   "source": [
    "## Dividing Dataset Into Training Data & Testing Data"
   ]
  },
  {
   "cell_type": "code",
   "execution_count": 10,
   "id": "0df1a5a7",
   "metadata": {},
   "outputs": [],
   "source": [
    "from sklearn.model_selection import train_test_split"
   ]
  },
  {
   "cell_type": "code",
   "execution_count": 11,
   "id": "6a3dc94b",
   "metadata": {},
   "outputs": [],
   "source": [
    "X_train, X_test, y_train, y_test = train_test_split(reviews,df['sentiment'], test_size=0.2)"
   ]
  },
  {
   "cell_type": "markdown",
   "id": "cfb3575b",
   "metadata": {},
   "source": [
    "# 1) Multinomial Naive Bayes"
   ]
  },
  {
   "cell_type": "code",
   "execution_count": 12,
   "id": "dce70ada",
   "metadata": {},
   "outputs": [],
   "source": [
    "from sklearn.naive_bayes import MultinomialNB,BernoulliNB,GaussianNB"
   ]
  },
  {
   "cell_type": "code",
   "execution_count": 13,
   "id": "8588eed4",
   "metadata": {},
   "outputs": [],
   "source": [
    "mnb = MultinomialNB()"
   ]
  },
  {
   "cell_type": "code",
   "execution_count": 14,
   "id": "061942c4",
   "metadata": {},
   "outputs": [
    {
     "data": {
      "text/html": [
       "<style>#sk-container-id-1 {color: black;}#sk-container-id-1 pre{padding: 0;}#sk-container-id-1 div.sk-toggleable {background-color: white;}#sk-container-id-1 label.sk-toggleable__label {cursor: pointer;display: block;width: 100%;margin-bottom: 0;padding: 0.3em;box-sizing: border-box;text-align: center;}#sk-container-id-1 label.sk-toggleable__label-arrow:before {content: \"▸\";float: left;margin-right: 0.25em;color: #696969;}#sk-container-id-1 label.sk-toggleable__label-arrow:hover:before {color: black;}#sk-container-id-1 div.sk-estimator:hover label.sk-toggleable__label-arrow:before {color: black;}#sk-container-id-1 div.sk-toggleable__content {max-height: 0;max-width: 0;overflow: hidden;text-align: left;background-color: #f0f8ff;}#sk-container-id-1 div.sk-toggleable__content pre {margin: 0.2em;color: black;border-radius: 0.25em;background-color: #f0f8ff;}#sk-container-id-1 input.sk-toggleable__control:checked~div.sk-toggleable__content {max-height: 200px;max-width: 100%;overflow: auto;}#sk-container-id-1 input.sk-toggleable__control:checked~label.sk-toggleable__label-arrow:before {content: \"▾\";}#sk-container-id-1 div.sk-estimator input.sk-toggleable__control:checked~label.sk-toggleable__label {background-color: #d4ebff;}#sk-container-id-1 div.sk-label input.sk-toggleable__control:checked~label.sk-toggleable__label {background-color: #d4ebff;}#sk-container-id-1 input.sk-hidden--visually {border: 0;clip: rect(1px 1px 1px 1px);clip: rect(1px, 1px, 1px, 1px);height: 1px;margin: -1px;overflow: hidden;padding: 0;position: absolute;width: 1px;}#sk-container-id-1 div.sk-estimator {font-family: monospace;background-color: #f0f8ff;border: 1px dotted black;border-radius: 0.25em;box-sizing: border-box;margin-bottom: 0.5em;}#sk-container-id-1 div.sk-estimator:hover {background-color: #d4ebff;}#sk-container-id-1 div.sk-parallel-item::after {content: \"\";width: 100%;border-bottom: 1px solid gray;flex-grow: 1;}#sk-container-id-1 div.sk-label:hover label.sk-toggleable__label {background-color: #d4ebff;}#sk-container-id-1 div.sk-serial::before {content: \"\";position: absolute;border-left: 1px solid gray;box-sizing: border-box;top: 0;bottom: 0;left: 50%;z-index: 0;}#sk-container-id-1 div.sk-serial {display: flex;flex-direction: column;align-items: center;background-color: white;padding-right: 0.2em;padding-left: 0.2em;position: relative;}#sk-container-id-1 div.sk-item {position: relative;z-index: 1;}#sk-container-id-1 div.sk-parallel {display: flex;align-items: stretch;justify-content: center;background-color: white;position: relative;}#sk-container-id-1 div.sk-item::before, #sk-container-id-1 div.sk-parallel-item::before {content: \"\";position: absolute;border-left: 1px solid gray;box-sizing: border-box;top: 0;bottom: 0;left: 50%;z-index: -1;}#sk-container-id-1 div.sk-parallel-item {display: flex;flex-direction: column;z-index: 1;position: relative;background-color: white;}#sk-container-id-1 div.sk-parallel-item:first-child::after {align-self: flex-end;width: 50%;}#sk-container-id-1 div.sk-parallel-item:last-child::after {align-self: flex-start;width: 50%;}#sk-container-id-1 div.sk-parallel-item:only-child::after {width: 0;}#sk-container-id-1 div.sk-dashed-wrapped {border: 1px dashed gray;margin: 0 0.4em 0.5em 0.4em;box-sizing: border-box;padding-bottom: 0.4em;background-color: white;}#sk-container-id-1 div.sk-label label {font-family: monospace;font-weight: bold;display: inline-block;line-height: 1.2em;}#sk-container-id-1 div.sk-label-container {text-align: center;}#sk-container-id-1 div.sk-container {/* jupyter's `normalize.less` sets `[hidden] { display: none; }` but bootstrap.min.css set `[hidden] { display: none !important; }` so we also need the `!important` here to be able to override the default hidden behavior on the sphinx rendered scikit-learn.org. See: https://github.com/scikit-learn/scikit-learn/issues/21755 */display: inline-block !important;position: relative;}#sk-container-id-1 div.sk-text-repr-fallback {display: none;}</style><div id=\"sk-container-id-1\" class=\"sk-top-container\"><div class=\"sk-text-repr-fallback\"><pre>MultinomialNB()</pre><b>In a Jupyter environment, please rerun this cell to show the HTML representation or trust the notebook. <br />On GitHub, the HTML representation is unable to render, please try loading this page with nbviewer.org.</b></div><div class=\"sk-container\" hidden><div class=\"sk-item\"><div class=\"sk-estimator sk-toggleable\"><input class=\"sk-toggleable__control sk-hidden--visually\" id=\"sk-estimator-id-1\" type=\"checkbox\" checked><label for=\"sk-estimator-id-1\" class=\"sk-toggleable__label sk-toggleable__label-arrow\">MultinomialNB</label><div class=\"sk-toggleable__content\"><pre>MultinomialNB()</pre></div></div></div></div></div>"
      ],
      "text/plain": [
       "MultinomialNB()"
      ]
     },
     "execution_count": 14,
     "metadata": {},
     "output_type": "execute_result"
    }
   ],
   "source": [
    "mnb.fit(X_train,y_train)"
   ]
  },
  {
   "cell_type": "code",
   "execution_count": 15,
   "id": "6c9e613b",
   "metadata": {},
   "outputs": [],
   "source": [
    "mnb.predict(X_test)\n",
    "y_predict = mnb.predict(X_test)"
   ]
  },
  {
   "cell_type": "code",
   "execution_count": 16,
   "id": "c756e495",
   "metadata": {},
   "outputs": [
    {
     "data": {
      "text/plain": [
       "0.81"
      ]
     },
     "execution_count": 16,
     "metadata": {},
     "output_type": "execute_result"
    }
   ],
   "source": [
    "mnb.score(X_test,y_test)"
   ]
  },
  {
   "cell_type": "markdown",
   "id": "52ebde9d",
   "metadata": {},
   "source": [
    "# 2) Multivariate Bernoulli Event Model Naive Bayes (Extra)"
   ]
  },
  {
   "cell_type": "code",
   "execution_count": 17,
   "id": "754fa9ca",
   "metadata": {},
   "outputs": [],
   "source": [
    "bnb = BernoulliNB(binarize=0.0)"
   ]
  },
  {
   "cell_type": "code",
   "execution_count": 18,
   "id": "667bd03f",
   "metadata": {},
   "outputs": [
    {
     "data": {
      "text/html": [
       "<style>#sk-container-id-2 {color: black;}#sk-container-id-2 pre{padding: 0;}#sk-container-id-2 div.sk-toggleable {background-color: white;}#sk-container-id-2 label.sk-toggleable__label {cursor: pointer;display: block;width: 100%;margin-bottom: 0;padding: 0.3em;box-sizing: border-box;text-align: center;}#sk-container-id-2 label.sk-toggleable__label-arrow:before {content: \"▸\";float: left;margin-right: 0.25em;color: #696969;}#sk-container-id-2 label.sk-toggleable__label-arrow:hover:before {color: black;}#sk-container-id-2 div.sk-estimator:hover label.sk-toggleable__label-arrow:before {color: black;}#sk-container-id-2 div.sk-toggleable__content {max-height: 0;max-width: 0;overflow: hidden;text-align: left;background-color: #f0f8ff;}#sk-container-id-2 div.sk-toggleable__content pre {margin: 0.2em;color: black;border-radius: 0.25em;background-color: #f0f8ff;}#sk-container-id-2 input.sk-toggleable__control:checked~div.sk-toggleable__content {max-height: 200px;max-width: 100%;overflow: auto;}#sk-container-id-2 input.sk-toggleable__control:checked~label.sk-toggleable__label-arrow:before {content: \"▾\";}#sk-container-id-2 div.sk-estimator input.sk-toggleable__control:checked~label.sk-toggleable__label {background-color: #d4ebff;}#sk-container-id-2 div.sk-label input.sk-toggleable__control:checked~label.sk-toggleable__label {background-color: #d4ebff;}#sk-container-id-2 input.sk-hidden--visually {border: 0;clip: rect(1px 1px 1px 1px);clip: rect(1px, 1px, 1px, 1px);height: 1px;margin: -1px;overflow: hidden;padding: 0;position: absolute;width: 1px;}#sk-container-id-2 div.sk-estimator {font-family: monospace;background-color: #f0f8ff;border: 1px dotted black;border-radius: 0.25em;box-sizing: border-box;margin-bottom: 0.5em;}#sk-container-id-2 div.sk-estimator:hover {background-color: #d4ebff;}#sk-container-id-2 div.sk-parallel-item::after {content: \"\";width: 100%;border-bottom: 1px solid gray;flex-grow: 1;}#sk-container-id-2 div.sk-label:hover label.sk-toggleable__label {background-color: #d4ebff;}#sk-container-id-2 div.sk-serial::before {content: \"\";position: absolute;border-left: 1px solid gray;box-sizing: border-box;top: 0;bottom: 0;left: 50%;z-index: 0;}#sk-container-id-2 div.sk-serial {display: flex;flex-direction: column;align-items: center;background-color: white;padding-right: 0.2em;padding-left: 0.2em;position: relative;}#sk-container-id-2 div.sk-item {position: relative;z-index: 1;}#sk-container-id-2 div.sk-parallel {display: flex;align-items: stretch;justify-content: center;background-color: white;position: relative;}#sk-container-id-2 div.sk-item::before, #sk-container-id-2 div.sk-parallel-item::before {content: \"\";position: absolute;border-left: 1px solid gray;box-sizing: border-box;top: 0;bottom: 0;left: 50%;z-index: -1;}#sk-container-id-2 div.sk-parallel-item {display: flex;flex-direction: column;z-index: 1;position: relative;background-color: white;}#sk-container-id-2 div.sk-parallel-item:first-child::after {align-self: flex-end;width: 50%;}#sk-container-id-2 div.sk-parallel-item:last-child::after {align-self: flex-start;width: 50%;}#sk-container-id-2 div.sk-parallel-item:only-child::after {width: 0;}#sk-container-id-2 div.sk-dashed-wrapped {border: 1px dashed gray;margin: 0 0.4em 0.5em 0.4em;box-sizing: border-box;padding-bottom: 0.4em;background-color: white;}#sk-container-id-2 div.sk-label label {font-family: monospace;font-weight: bold;display: inline-block;line-height: 1.2em;}#sk-container-id-2 div.sk-label-container {text-align: center;}#sk-container-id-2 div.sk-container {/* jupyter's `normalize.less` sets `[hidden] { display: none; }` but bootstrap.min.css set `[hidden] { display: none !important; }` so we also need the `!important` here to be able to override the default hidden behavior on the sphinx rendered scikit-learn.org. See: https://github.com/scikit-learn/scikit-learn/issues/21755 */display: inline-block !important;position: relative;}#sk-container-id-2 div.sk-text-repr-fallback {display: none;}</style><div id=\"sk-container-id-2\" class=\"sk-top-container\"><div class=\"sk-text-repr-fallback\"><pre>BernoulliNB()</pre><b>In a Jupyter environment, please rerun this cell to show the HTML representation or trust the notebook. <br />On GitHub, the HTML representation is unable to render, please try loading this page with nbviewer.org.</b></div><div class=\"sk-container\" hidden><div class=\"sk-item\"><div class=\"sk-estimator sk-toggleable\"><input class=\"sk-toggleable__control sk-hidden--visually\" id=\"sk-estimator-id-2\" type=\"checkbox\" checked><label for=\"sk-estimator-id-2\" class=\"sk-toggleable__label sk-toggleable__label-arrow\">BernoulliNB</label><div class=\"sk-toggleable__content\"><pre>BernoulliNB()</pre></div></div></div></div></div>"
      ],
      "text/plain": [
       "BernoulliNB()"
      ]
     },
     "execution_count": 18,
     "metadata": {},
     "output_type": "execute_result"
    }
   ],
   "source": [
    "bnb.fit(X_train,y_train)"
   ]
  },
  {
   "cell_type": "code",
   "execution_count": 19,
   "id": "835692a0",
   "metadata": {},
   "outputs": [
    {
     "data": {
      "text/plain": [
       "array([[9.99999441e-01, 5.58708595e-07],\n",
       "       [9.99491028e-01, 5.08971602e-04],\n",
       "       [9.99422470e-01, 5.77530459e-04],\n",
       "       [9.99959648e-01, 4.03516201e-05],\n",
       "       [5.24690227e-08, 9.99999948e-01],\n",
       "       [8.15649056e-04, 9.99184351e-01],\n",
       "       [9.87010778e-06, 9.99990130e-01],\n",
       "       [9.96115161e-01, 3.88483916e-03],\n",
       "       [9.99967983e-01, 3.20173915e-05],\n",
       "       [1.00561329e-05, 9.99989944e-01],\n",
       "       [9.99378849e-01, 6.21150578e-04],\n",
       "       [9.99999981e-01, 1.85227552e-08],\n",
       "       [7.43279259e-02, 9.25672074e-01],\n",
       "       [9.99963022e-01, 3.69782801e-05],\n",
       "       [9.87806355e-01, 1.21936448e-02],\n",
       "       [6.51933186e-04, 9.99348067e-01],\n",
       "       [9.99876925e-01, 1.23074642e-04],\n",
       "       [9.99996287e-01, 3.71274106e-06],\n",
       "       [4.99757641e-12, 1.00000000e+00],\n",
       "       [8.62948580e-01, 1.37051420e-01],\n",
       "       [9.97664536e-01, 2.33546375e-03],\n",
       "       [9.98391846e-01, 1.60815381e-03],\n",
       "       [1.00000000e+00, 2.43184568e-14],\n",
       "       [9.90349590e-01, 9.65040977e-03],\n",
       "       [5.54090593e-10, 9.99999999e-01],\n",
       "       [8.86435371e-05, 9.99911356e-01],\n",
       "       [9.99999815e-01, 1.85291589e-07],\n",
       "       [1.37000258e-01, 8.62999742e-01],\n",
       "       [9.99970542e-01, 2.94581641e-05],\n",
       "       [9.99998011e-01, 1.98859966e-06],\n",
       "       [2.00375250e-17, 1.00000000e+00],\n",
       "       [9.92060756e-01, 7.93924366e-03],\n",
       "       [4.37640449e-02, 9.56235955e-01],\n",
       "       [9.99987126e-01, 1.28739420e-05],\n",
       "       [9.14088704e-03, 9.90859113e-01],\n",
       "       [4.64713993e-02, 9.53528601e-01],\n",
       "       [9.99999988e-01, 1.21102544e-08],\n",
       "       [2.14457671e-01, 7.85542329e-01],\n",
       "       [1.45917297e-11, 1.00000000e+00],\n",
       "       [7.92988711e-01, 2.07011289e-01],\n",
       "       [2.17971450e-01, 7.82028550e-01],\n",
       "       [9.99999737e-01, 2.63473270e-07],\n",
       "       [3.13140233e-01, 6.86859767e-01],\n",
       "       [9.16041774e-06, 9.99990840e-01],\n",
       "       [5.25657881e-09, 9.99999995e-01],\n",
       "       [3.01219227e-02, 9.69878077e-01],\n",
       "       [1.99480113e-04, 9.99800520e-01],\n",
       "       [6.71489646e-02, 9.32851035e-01],\n",
       "       [9.99999894e-01, 1.06169729e-07],\n",
       "       [1.18571547e-02, 9.88142845e-01],\n",
       "       [4.14375793e-03, 9.95856242e-01],\n",
       "       [1.90434191e-12, 1.00000000e+00],\n",
       "       [1.27509419e-01, 8.72490581e-01],\n",
       "       [1.39894045e-08, 9.99999986e-01],\n",
       "       [5.91268795e-06, 9.99994087e-01],\n",
       "       [9.98959328e-01, 1.04067185e-03],\n",
       "       [9.99998542e-01, 1.45805513e-06],\n",
       "       [9.98148866e-01, 1.85113387e-03],\n",
       "       [9.85798078e-01, 1.42019220e-02],\n",
       "       [4.38483708e-05, 9.99956152e-01],\n",
       "       [9.15171744e-01, 8.48282560e-02],\n",
       "       [1.64468972e-03, 9.98355310e-01],\n",
       "       [5.04732191e-01, 4.95267809e-01],\n",
       "       [2.85575508e-04, 9.99714424e-01],\n",
       "       [9.99997379e-01, 2.62129371e-06],\n",
       "       [1.76246123e-01, 8.23753877e-01],\n",
       "       [9.99999488e-01, 5.11610510e-07],\n",
       "       [9.85965810e-01, 1.40341903e-02],\n",
       "       [9.91274929e-01, 8.72507120e-03],\n",
       "       [9.99998551e-01, 1.44906877e-06],\n",
       "       [2.18959559e-09, 9.99999998e-01],\n",
       "       [9.99998910e-01, 1.09045569e-06],\n",
       "       [8.09621208e-01, 1.90378792e-01],\n",
       "       [4.28309680e-02, 9.57169032e-01],\n",
       "       [2.72776774e-02, 9.72722323e-01],\n",
       "       [3.36069842e-16, 1.00000000e+00],\n",
       "       [7.03920412e-01, 2.96079588e-01],\n",
       "       [1.08965786e-05, 9.99989103e-01],\n",
       "       [2.22187843e-03, 9.97778122e-01],\n",
       "       [5.54375356e-02, 9.44562464e-01],\n",
       "       [5.69281917e-09, 9.99999994e-01],\n",
       "       [9.99625884e-01, 3.74116341e-04],\n",
       "       [3.12130938e-04, 9.99687869e-01],\n",
       "       [2.66637474e-04, 9.99733363e-01],\n",
       "       [1.00000000e+00, 3.71016480e-11],\n",
       "       [9.61809739e-01, 3.81902613e-02],\n",
       "       [8.18831401e-04, 9.99181169e-01],\n",
       "       [9.99586304e-01, 4.13695768e-04],\n",
       "       [3.78446922e-03, 9.96215531e-01],\n",
       "       [9.98669144e-01, 1.33085638e-03],\n",
       "       [9.98420678e-01, 1.57932160e-03],\n",
       "       [9.99949308e-01, 5.06922929e-05],\n",
       "       [2.24500158e-02, 9.77549984e-01],\n",
       "       [1.94515437e-09, 9.99999998e-01],\n",
       "       [1.00000000e+00, 1.15692462e-11],\n",
       "       [1.79940909e-04, 9.99820059e-01],\n",
       "       [3.90582697e-01, 6.09417303e-01],\n",
       "       [1.28122169e-09, 9.99999999e-01],\n",
       "       [9.84943214e-01, 1.50567856e-02],\n",
       "       [9.99618331e-01, 3.81669144e-04],\n",
       "       [9.23196694e-01, 7.68033057e-02],\n",
       "       [9.98534300e-01, 1.46570039e-03],\n",
       "       [2.18380371e-02, 9.78161963e-01],\n",
       "       [4.50319206e-04, 9.99549681e-01],\n",
       "       [4.33490574e-01, 5.66509426e-01],\n",
       "       [9.98330213e-01, 1.66978658e-03],\n",
       "       [9.99710077e-01, 2.89922646e-04],\n",
       "       [3.02814247e-01, 6.97185753e-01],\n",
       "       [2.91354759e-03, 9.97086452e-01],\n",
       "       [8.70467334e-01, 1.29532666e-01],\n",
       "       [3.85478065e-01, 6.14521935e-01],\n",
       "       [9.99999986e-01, 1.42562126e-08],\n",
       "       [8.11662698e-02, 9.18833730e-01],\n",
       "       [1.00000000e+00, 2.71015588e-12],\n",
       "       [9.72555975e-01, 2.74440249e-02],\n",
       "       [3.29597082e-01, 6.70402918e-01],\n",
       "       [9.33209620e-01, 6.67903797e-02],\n",
       "       [9.99983658e-01, 1.63421892e-05],\n",
       "       [5.14772197e-08, 9.99999949e-01],\n",
       "       [1.51523970e-04, 9.99848476e-01],\n",
       "       [7.13954039e-04, 9.99286046e-01],\n",
       "       [8.60454321e-02, 9.13954568e-01],\n",
       "       [5.47335994e-01, 4.52664006e-01],\n",
       "       [9.99999980e-01, 1.99534591e-08],\n",
       "       [1.92588380e-02, 9.80741162e-01],\n",
       "       [9.99559617e-01, 4.40383120e-04],\n",
       "       [5.18159545e-01, 4.81840455e-01],\n",
       "       [9.99130612e-01, 8.69388023e-04],\n",
       "       [4.25009082e-02, 9.57499092e-01],\n",
       "       [8.96817786e-01, 1.03182214e-01],\n",
       "       [9.74737719e-01, 2.52622805e-02],\n",
       "       [7.25432949e-01, 2.74567051e-01],\n",
       "       [9.98056731e-04, 9.99001943e-01],\n",
       "       [7.51446017e-01, 2.48553983e-01],\n",
       "       [1.90708319e-01, 8.09291681e-01],\n",
       "       [9.99998640e-01, 1.35956499e-06],\n",
       "       [8.20277702e-03, 9.91797223e-01],\n",
       "       [4.40594556e-05, 9.99955941e-01],\n",
       "       [6.05153121e-06, 9.99993948e-01],\n",
       "       [1.35887536e-06, 9.99998641e-01],\n",
       "       [9.99959996e-01, 4.00036987e-05],\n",
       "       [1.00000000e+00, 3.74907315e-10],\n",
       "       [9.93913603e-03, 9.90060864e-01],\n",
       "       [9.99999453e-01, 5.47182548e-07],\n",
       "       [1.32941560e-02, 9.86705844e-01],\n",
       "       [9.95116839e-01, 4.88316063e-03],\n",
       "       [9.99942765e-01, 5.72349182e-05],\n",
       "       [9.99698138e-01, 3.01861627e-04],\n",
       "       [9.99853359e-01, 1.46640755e-04],\n",
       "       [7.55892006e-01, 2.44107994e-01],\n",
       "       [5.45393342e-08, 9.99999945e-01],\n",
       "       [9.83515873e-01, 1.64841270e-02],\n",
       "       [4.63702579e-05, 9.99953630e-01],\n",
       "       [1.00000000e+00, 1.24356251e-10],\n",
       "       [3.14902020e-01, 6.85097980e-01],\n",
       "       [4.70425426e-05, 9.99952957e-01],\n",
       "       [4.71429315e-03, 9.95285707e-01],\n",
       "       [4.46338307e-02, 9.55366169e-01],\n",
       "       [2.76524073e-02, 9.72347593e-01],\n",
       "       [9.99658168e-01, 3.41831561e-04],\n",
       "       [4.31371753e-07, 9.99999569e-01],\n",
       "       [9.99999955e-01, 4.47826885e-08],\n",
       "       [1.17492790e-03, 9.98825072e-01],\n",
       "       [9.99998306e-01, 1.69445678e-06],\n",
       "       [9.97014621e-01, 2.98537916e-03],\n",
       "       [4.91716390e-01, 5.08283610e-01],\n",
       "       [9.99576351e-01, 4.23648630e-04],\n",
       "       [9.99992363e-01, 7.63662021e-06],\n",
       "       [9.99994394e-01, 5.60569201e-06],\n",
       "       [3.17930352e-05, 9.99968207e-01],\n",
       "       [9.99999978e-01, 2.23237652e-08],\n",
       "       [9.99998488e-01, 1.51173091e-06],\n",
       "       [9.98055130e-01, 1.94487034e-03],\n",
       "       [6.02385721e-02, 9.39761428e-01],\n",
       "       [7.43478911e-01, 2.56521089e-01],\n",
       "       [8.84836099e-01, 1.15163901e-01],\n",
       "       [1.46782857e-02, 9.85321714e-01],\n",
       "       [8.13870790e-11, 1.00000000e+00],\n",
       "       [2.36667616e-03, 9.97633324e-01],\n",
       "       [3.43525452e-02, 9.65647455e-01],\n",
       "       [9.99993961e-01, 6.03868658e-06],\n",
       "       [9.99998185e-01, 1.81469817e-06],\n",
       "       [4.16557252e-03, 9.95834427e-01],\n",
       "       [2.52684363e-03, 9.97473156e-01],\n",
       "       [2.87415525e-02, 9.71258448e-01],\n",
       "       [3.05907994e-02, 9.69409201e-01],\n",
       "       [8.93060521e-01, 1.06939479e-01],\n",
       "       [2.76724598e-12, 1.00000000e+00],\n",
       "       [4.70258892e-06, 9.99995297e-01],\n",
       "       [1.40662607e-02, 9.85933739e-01],\n",
       "       [9.98764024e-01, 1.23597614e-03],\n",
       "       [9.99999669e-01, 3.30869349e-07],\n",
       "       [9.99998665e-01, 1.33485385e-06],\n",
       "       [1.44984237e-03, 9.98550158e-01],\n",
       "       [9.23246491e-01, 7.67535094e-02],\n",
       "       [9.98230456e-01, 1.76954448e-03],\n",
       "       [4.38417203e-04, 9.99561583e-01],\n",
       "       [3.34746697e-02, 9.66525330e-01],\n",
       "       [7.16233090e-01, 2.83766910e-01],\n",
       "       [3.19779899e-02, 9.68022010e-01]])"
      ]
     },
     "execution_count": 19,
     "metadata": {},
     "output_type": "execute_result"
    }
   ],
   "source": [
    "bnb.predict_proba(X_test)"
   ]
  },
  {
   "cell_type": "code",
   "execution_count": 20,
   "id": "e22093c0",
   "metadata": {},
   "outputs": [
    {
     "data": {
      "text/plain": [
       "array(['negative', 'negative', 'negative', 'negative', 'positive',\n",
       "       'positive', 'positive', 'negative', 'negative', 'positive',\n",
       "       'negative', 'negative', 'positive', 'negative', 'negative',\n",
       "       'positive', 'negative', 'negative', 'positive', 'negative',\n",
       "       'negative', 'negative', 'negative', 'negative', 'positive',\n",
       "       'positive', 'negative', 'positive', 'negative', 'negative',\n",
       "       'positive', 'negative', 'positive', 'negative', 'positive',\n",
       "       'positive', 'negative', 'positive', 'positive', 'negative',\n",
       "       'positive', 'negative', 'positive', 'positive', 'positive',\n",
       "       'positive', 'positive', 'positive', 'negative', 'positive',\n",
       "       'positive', 'positive', 'positive', 'positive', 'positive',\n",
       "       'negative', 'negative', 'negative', 'negative', 'positive',\n",
       "       'negative', 'positive', 'negative', 'positive', 'negative',\n",
       "       'positive', 'negative', 'negative', 'negative', 'negative',\n",
       "       'positive', 'negative', 'negative', 'positive', 'positive',\n",
       "       'positive', 'negative', 'positive', 'positive', 'positive',\n",
       "       'positive', 'negative', 'positive', 'positive', 'negative',\n",
       "       'negative', 'positive', 'negative', 'positive', 'negative',\n",
       "       'negative', 'negative', 'positive', 'positive', 'negative',\n",
       "       'positive', 'positive', 'positive', 'negative', 'negative',\n",
       "       'negative', 'negative', 'positive', 'positive', 'positive',\n",
       "       'negative', 'negative', 'positive', 'positive', 'negative',\n",
       "       'positive', 'negative', 'positive', 'negative', 'negative',\n",
       "       'positive', 'negative', 'negative', 'positive', 'positive',\n",
       "       'positive', 'positive', 'negative', 'negative', 'positive',\n",
       "       'negative', 'negative', 'negative', 'positive', 'negative',\n",
       "       'negative', 'negative', 'positive', 'negative', 'positive',\n",
       "       'negative', 'positive', 'positive', 'positive', 'positive',\n",
       "       'negative', 'negative', 'positive', 'negative', 'positive',\n",
       "       'negative', 'negative', 'negative', 'negative', 'negative',\n",
       "       'positive', 'negative', 'positive', 'negative', 'positive',\n",
       "       'positive', 'positive', 'positive', 'positive', 'negative',\n",
       "       'positive', 'negative', 'positive', 'negative', 'negative',\n",
       "       'positive', 'negative', 'negative', 'negative', 'positive',\n",
       "       'negative', 'negative', 'negative', 'positive', 'negative',\n",
       "       'negative', 'positive', 'positive', 'positive', 'positive',\n",
       "       'negative', 'negative', 'positive', 'positive', 'positive',\n",
       "       'positive', 'negative', 'positive', 'positive', 'positive',\n",
       "       'negative', 'negative', 'negative', 'positive', 'negative',\n",
       "       'negative', 'positive', 'positive', 'negative', 'positive'],\n",
       "      dtype='<U8')"
      ]
     },
     "execution_count": 20,
     "metadata": {},
     "output_type": "execute_result"
    }
   ],
   "source": [
    "bnb.predict(X_test)"
   ]
  },
  {
   "cell_type": "code",
   "execution_count": 21,
   "id": "a4ec9eb5",
   "metadata": {},
   "outputs": [
    {
     "data": {
      "text/plain": [
       "0.83"
      ]
     },
     "execution_count": 21,
     "metadata": {},
     "output_type": "execute_result"
    }
   ],
   "source": [
    "bnb.score(X_test,y_test)"
   ]
  },
  {
   "cell_type": "markdown",
   "id": "1469f285",
   "metadata": {},
   "source": [
    "# Generating Confusion Matrix "
   ]
  },
  {
   "cell_type": "code",
   "execution_count": 22,
   "id": "729add6c",
   "metadata": {},
   "outputs": [
    {
     "data": {
      "text/plain": [
       "'\\nTN FP\\nFN FN\\n\\nACCURACY = (TP/TN)/Toal Examples\\nPRECISION = TP/(TP+FP)\\nRECALL = TP/(TP+FN)\\nF-MEASURE = 2*TP/(2*TP+FP+FN)\\n'"
      ]
     },
     "execution_count": 22,
     "metadata": {},
     "output_type": "execute_result"
    }
   ],
   "source": [
    "\"\"\"\n",
    "TN FP\n",
    "FN FN\n",
    "\n",
    "ACCURACY = (TP/TN)/Toal Examples\n",
    "PRECISION = TP/(TP+FP)\n",
    "RECALL = TP/(TP+FN)\n",
    "F-MEASURE = 2*TP/(2*TP+FP+FN)\n",
    "\"\"\""
   ]
  },
  {
   "cell_type": "code",
   "execution_count": 23,
   "id": "8aedab84",
   "metadata": {},
   "outputs": [],
   "source": [
    "from sklearn.metrics import confusion_matrix"
   ]
  },
  {
   "cell_type": "code",
   "execution_count": 24,
   "id": "a6d883ee",
   "metadata": {},
   "outputs": [
    {
     "name": "stdout",
     "output_type": "stream",
     "text": [
      "[[89 18]\n",
      " [20 73]]\n"
     ]
    }
   ],
   "source": [
    "cnf_matrix = confusion_matrix(y_test,y_predict)\n",
    "print(cnf_matrix)"
   ]
  },
  {
   "cell_type": "markdown",
   "id": "39a454a9",
   "metadata": {},
   "source": [
    "# Visualising The Confusion Matrix\n"
   ]
  },
  {
   "cell_type": "code",
   "execution_count": 25,
   "id": "21458fab",
   "metadata": {},
   "outputs": [],
   "source": [
    "from sklearn.metrics import ConfusionMatrixDisplay"
   ]
  },
  {
   "cell_type": "code",
   "execution_count": 26,
   "id": "b0739d45",
   "metadata": {},
   "outputs": [
    {
     "data": {
      "text/plain": [
       "<sklearn.metrics._plot.confusion_matrix.ConfusionMatrixDisplay at 0x24cb8f0ec50>"
      ]
     },
     "execution_count": 26,
     "metadata": {},
     "output_type": "execute_result"
    },
    {
     "data": {
      "image/png": "[encoded data removed]",
      "text/plain": [
       "<Figure size 640x480 with 2 Axes>"
      ]
     },
     "metadata": {},
     "output_type": "display_data"
    }
   ],
   "source": [
    "display = ConfusionMatrixDisplay(confusion_matrix=cnf_matrix)\n",
    "display.plot()"
   ]
  }
 ],
 "metadata": {
  "kernelspec": {
   "display_name": "Python 3 (ipykernel)",
   "language": "python",
   "name": "python3"
  },
  "language_info": {
   "codemirror_mode": {
    "name": "ipython",
    "version": 3
   },
   "file_extension": ".py",
   "mimetype": "text/x-python",
   "name": "python",
   "nbconvert_exporter": "python",
   "pygments_lexer": "ipython3",
   "version": "3.11.4"
  }
 },
 "nbformat": 4,
 "nbformat_minor": 5
}
