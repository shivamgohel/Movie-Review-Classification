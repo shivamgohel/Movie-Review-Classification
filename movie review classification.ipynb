{
 "cells": [
  {
   "cell_type": "code",
   "execution_count": 1,
   "id": "5780f176",
   "metadata": {},
   "outputs": [],
   "source": [
    "import pandas as pd\n",
    "import numpy as np"
   ]
  },
  {
   "cell_type": "markdown",
   "id": "41cbe917",
   "metadata": {},
   "source": [
    "## Loading The Data"
   ]
  },
  {
   "cell_type": "code",
   "execution_count": 2,
   "id": "5fe3be22",
   "metadata": {},
   "outputs": [],
   "source": [
    "df = pd.read_csv(\"movie_reviewdataset_50K.csv\")\n",
    "df = df[0:1000]"
   ]
  },
  {
   "cell_type": "markdown",
   "id": "35307738",
   "metadata": {},
   "source": [
    "## Cleaning The Data (NLTK)"
   ]
  },
  {
   "cell_type": "code",
   "execution_count": 3,
   "id": "58de3b0e",
   "metadata": {},
   "outputs": [],
   "source": [
    "from nltk.tokenize import RegexpTokenizer\n",
    "from nltk.stem.porter import PorterStemmer\n",
    "from nltk.corpus import stopwords"
   ]
  },
  {
   "cell_type": "code",
   "execution_count": 4,
   "id": "351d9b5b",
   "metadata": {},
   "outputs": [],
   "source": [
    "# Init Objects\n",
    "tokenizer = RegexpTokenizer(r'\\w+')\n",
    "en_stopwords = set(stopwords.words('english'))\n",
    "ps = PorterStemmer()"
   ]
  },
  {
   "cell_type": "code",
   "execution_count": 5,
   "id": "c2e1ab85",
   "metadata": {},
   "outputs": [],
   "source": [
    "def CleanReview(review):\n",
    "    review = review.lower()\n",
    "    \n",
    "    #Tokenize\n",
    "    tokens = tokenizer.tokenize(review)\n",
    "    new_tokens = [token for token in tokens if token not in en_stopwords]\n",
    "    stemmed_tokens = [ps.stem(token) for token in new_tokens]\n",
    "    \n",
    "    clean_review = ' '.join(stemmed_tokens)\n",
    "    return clean_review"
   ]
  },
  {
   "cell_type": "code",
   "execution_count": 31,
   "id": "72747f00",
   "metadata": {},
   "outputs": [],
   "source": [
    "df['review'] = df['review'].apply(CleanReview)"
   ]
  },
  {
   "cell_type": "markdown",
   "id": "6491f71d",
   "metadata": {},
   "source": [
    "# Vectorization"
   ]
  },
  {
   "cell_type": "code",
   "execution_count": 32,
   "id": "a2f35362",
   "metadata": {},
   "outputs": [],
   "source": [
    "from sklearn.feature_extraction.text import CountVectorizer"
   ]
  },
  {
   "cell_type": "code",
   "execution_count": 33,
   "id": "48df7be5",
   "metadata": {},
   "outputs": [],
   "source": [
    "cv = CountVectorizer()"
   ]
  },
  {
   "cell_type": "code",
   "execution_count": 36,
   "id": "ded3f8e5",
   "metadata": {},
   "outputs": [
    {
     "name": "stdout",
     "output_type": "stream",
     "text": [
      "(1000, 12442)\n"
     ]
    }
   ],
   "source": [
    "reviews = cv.fit_transform(df['review']).toarray()\n",
    "print(reviews.shape)"
   ]
  },
  {
   "cell_type": "markdown",
   "id": "b4cc2103",
   "metadata": {},
   "source": [
    "## Dividing Dataset Into Training Data & Testing Data"
   ]
  },
  {
   "cell_type": "code",
   "execution_count": 7,
   "id": "0df1a5a7",
   "metadata": {},
   "outputs": [],
   "source": [
    "from sklearn.model_selection import train_test_split"
   ]
  },
  {
   "cell_type": "code",
   "execution_count": 42,
   "id": "6a3dc94b",
   "metadata": {},
   "outputs": [],
   "source": [
    "X_train, X_test, y_train, y_test = train_test_split(reviews,df['sentiment'], test_size=0.2)"
   ]
  },
  {
   "cell_type": "markdown",
   "id": "cfb3575b",
   "metadata": {},
   "source": [
    "# 1) Multinomial Naive Bayes"
   ]
  },
  {
   "cell_type": "code",
   "execution_count": 44,
   "id": "dce70ada",
   "metadata": {},
   "outputs": [],
   "source": [
    "from sklearn.naive_bayes import MultinomialNB,BernoulliNB,GaussianNB"
   ]
  },
  {
   "cell_type": "code",
   "execution_count": 47,
   "id": "8588eed4",
   "metadata": {},
   "outputs": [],
   "source": [
    "mnb = MultinomialNB()"
   ]
  },
  {
   "cell_type": "code",
   "execution_count": 51,
   "id": "061942c4",
   "metadata": {},
   "outputs": [
    {
     "data": {
      "text/html": [
       "<style>#sk-container-id-2 {color: black;}#sk-container-id-2 pre{padding: 0;}#sk-container-id-2 div.sk-toggleable {background-color: white;}#sk-container-id-2 label.sk-toggleable__label {cursor: pointer;display: block;width: 100%;margin-bottom: 0;padding: 0.3em;box-sizing: border-box;text-align: center;}#sk-container-id-2 label.sk-toggleable__label-arrow:before {content: \"▸\";float: left;margin-right: 0.25em;color: #696969;}#sk-container-id-2 label.sk-toggleable__label-arrow:hover:before {color: black;}#sk-container-id-2 div.sk-estimator:hover label.sk-toggleable__label-arrow:before {color: black;}#sk-container-id-2 div.sk-toggleable__content {max-height: 0;max-width: 0;overflow: hidden;text-align: left;background-color: #f0f8ff;}#sk-container-id-2 div.sk-toggleable__content pre {margin: 0.2em;color: black;border-radius: 0.25em;background-color: #f0f8ff;}#sk-container-id-2 input.sk-toggleable__control:checked~div.sk-toggleable__content {max-height: 200px;max-width: 100%;overflow: auto;}#sk-container-id-2 input.sk-toggleable__control:checked~label.sk-toggleable__label-arrow:before {content: \"▾\";}#sk-container-id-2 div.sk-estimator input.sk-toggleable__control:checked~label.sk-toggleable__label {background-color: #d4ebff;}#sk-container-id-2 div.sk-label input.sk-toggleable__control:checked~label.sk-toggleable__label {background-color: #d4ebff;}#sk-container-id-2 input.sk-hidden--visually {border: 0;clip: rect(1px 1px 1px 1px);clip: rect(1px, 1px, 1px, 1px);height: 1px;margin: -1px;overflow: hidden;padding: 0;position: absolute;width: 1px;}#sk-container-id-2 div.sk-estimator {font-family: monospace;background-color: #f0f8ff;border: 1px dotted black;border-radius: 0.25em;box-sizing: border-box;margin-bottom: 0.5em;}#sk-container-id-2 div.sk-estimator:hover {background-color: #d4ebff;}#sk-container-id-2 div.sk-parallel-item::after {content: \"\";width: 100%;border-bottom: 1px solid gray;flex-grow: 1;}#sk-container-id-2 div.sk-label:hover label.sk-toggleable__label {background-color: #d4ebff;}#sk-container-id-2 div.sk-serial::before {content: \"\";position: absolute;border-left: 1px solid gray;box-sizing: border-box;top: 0;bottom: 0;left: 50%;z-index: 0;}#sk-container-id-2 div.sk-serial {display: flex;flex-direction: column;align-items: center;background-color: white;padding-right: 0.2em;padding-left: 0.2em;position: relative;}#sk-container-id-2 div.sk-item {position: relative;z-index: 1;}#sk-container-id-2 div.sk-parallel {display: flex;align-items: stretch;justify-content: center;background-color: white;position: relative;}#sk-container-id-2 div.sk-item::before, #sk-container-id-2 div.sk-parallel-item::before {content: \"\";position: absolute;border-left: 1px solid gray;box-sizing: border-box;top: 0;bottom: 0;left: 50%;z-index: -1;}#sk-container-id-2 div.sk-parallel-item {display: flex;flex-direction: column;z-index: 1;position: relative;background-color: white;}#sk-container-id-2 div.sk-parallel-item:first-child::after {align-self: flex-end;width: 50%;}#sk-container-id-2 div.sk-parallel-item:last-child::after {align-self: flex-start;width: 50%;}#sk-container-id-2 div.sk-parallel-item:only-child::after {width: 0;}#sk-container-id-2 div.sk-dashed-wrapped {border: 1px dashed gray;margin: 0 0.4em 0.5em 0.4em;box-sizing: border-box;padding-bottom: 0.4em;background-color: white;}#sk-container-id-2 div.sk-label label {font-family: monospace;font-weight: bold;display: inline-block;line-height: 1.2em;}#sk-container-id-2 div.sk-label-container {text-align: center;}#sk-container-id-2 div.sk-container {/* jupyter's `normalize.less` sets `[hidden] { display: none; }` but bootstrap.min.css set `[hidden] { display: none !important; }` so we also need the `!important` here to be able to override the default hidden behavior on the sphinx rendered scikit-learn.org. See: https://github.com/scikit-learn/scikit-learn/issues/21755 */display: inline-block !important;position: relative;}#sk-container-id-2 div.sk-text-repr-fallback {display: none;}</style><div id=\"sk-container-id-2\" class=\"sk-top-container\"><div class=\"sk-text-repr-fallback\"><pre>MultinomialNB()</pre><b>In a Jupyter environment, please rerun this cell to show the HTML representation or trust the notebook. <br />On GitHub, the HTML representation is unable to render, please try loading this page with nbviewer.org.</b></div><div class=\"sk-container\" hidden><div class=\"sk-item\"><div class=\"sk-estimator sk-toggleable\"><input class=\"sk-toggleable__control sk-hidden--visually\" id=\"sk-estimator-id-2\" type=\"checkbox\" checked><label for=\"sk-estimator-id-2\" class=\"sk-toggleable__label sk-toggleable__label-arrow\">MultinomialNB</label><div class=\"sk-toggleable__content\"><pre>MultinomialNB()</pre></div></div></div></div></div>"
      ],
      "text/plain": [
       "MultinomialNB()"
      ]
     },
     "execution_count": 51,
     "metadata": {},
     "output_type": "execute_result"
    }
   ],
   "source": [
    "mnb.fit(X_train,y_train)"
   ]
  },
  {
   "cell_type": "code",
   "execution_count": 72,
   "id": "6c9e613b",
   "metadata": {},
   "outputs": [
    {
     "data": {
      "text/plain": [
       "array(['negative', 'negative', 'positive', 'positive', 'positive',\n",
       "       'negative', 'negative', 'negative', 'negative', 'positive',\n",
       "       'negative', 'positive', 'negative', 'negative', 'positive',\n",
       "       'positive', 'positive', 'negative', 'positive', 'negative',\n",
       "       'positive', 'positive', 'negative', 'negative', 'positive',\n",
       "       'positive', 'negative', 'positive', 'positive', 'positive',\n",
       "       'negative', 'negative', 'negative', 'positive', 'positive',\n",
       "       'negative', 'negative', 'positive', 'negative', 'positive',\n",
       "       'negative', 'positive', 'negative', 'positive', 'negative',\n",
       "       'positive', 'negative', 'negative', 'positive', 'positive',\n",
       "       'positive', 'negative', 'positive', 'positive', 'negative',\n",
       "       'negative', 'negative', 'negative', 'negative', 'negative',\n",
       "       'positive', 'negative', 'positive', 'negative', 'negative',\n",
       "       'negative', 'positive', 'negative', 'positive', 'negative',\n",
       "       'negative', 'negative', 'positive', 'positive', 'positive',\n",
       "       'negative', 'negative', 'positive', 'negative', 'positive',\n",
       "       'negative', 'positive', 'positive', 'positive', 'negative',\n",
       "       'negative', 'negative', 'positive', 'negative', 'negative',\n",
       "       'negative', 'negative', 'negative', 'negative', 'negative',\n",
       "       'positive', 'positive', 'positive', 'negative', 'negative',\n",
       "       'positive', 'positive', 'positive', 'negative', 'negative',\n",
       "       'positive', 'positive', 'negative', 'negative', 'negative',\n",
       "       'negative', 'positive', 'negative', 'negative', 'positive',\n",
       "       'negative', 'negative', 'positive', 'negative', 'negative',\n",
       "       'negative', 'positive', 'negative', 'positive', 'positive',\n",
       "       'positive', 'positive', 'negative', 'negative', 'negative',\n",
       "       'positive', 'negative', 'negative', 'negative', 'positive',\n",
       "       'negative', 'positive', 'positive', 'positive', 'positive',\n",
       "       'negative', 'positive', 'positive', 'positive', 'negative',\n",
       "       'positive', 'positive', 'negative', 'negative', 'negative',\n",
       "       'negative', 'negative', 'negative', 'negative', 'negative',\n",
       "       'negative', 'negative', 'positive', 'negative', 'positive',\n",
       "       'negative', 'negative', 'negative', 'negative', 'negative',\n",
       "       'positive', 'positive', 'negative', 'positive', 'negative',\n",
       "       'positive', 'positive', 'negative', 'negative', 'negative',\n",
       "       'negative', 'positive', 'negative', 'negative', 'negative',\n",
       "       'negative', 'negative', 'negative', 'positive', 'negative',\n",
       "       'positive', 'positive', 'negative', 'positive', 'negative',\n",
       "       'positive', 'negative', 'positive', 'negative', 'negative',\n",
       "       'negative', 'negative', 'negative', 'negative', 'negative'],\n",
       "      dtype='<U8')"
      ]
     },
     "execution_count": 72,
     "metadata": {},
     "output_type": "execute_result"
    }
   ],
   "source": [
    "mnb.predict(X_test)"
   ]
  },
  {
   "cell_type": "code",
   "execution_count": 76,
   "id": "c756e495",
   "metadata": {},
   "outputs": [
    {
     "data": {
      "text/plain": [
       "0.835"
      ]
     },
     "execution_count": 76,
     "metadata": {},
     "output_type": "execute_result"
    }
   ],
   "source": [
    "mnb.score(X_test,y_test)"
   ]
  },
  {
   "cell_type": "markdown",
   "id": "52ebde9d",
   "metadata": {},
   "source": [
    "# 2) Multivariate Bernoulli Event Model Naive Bayes"
   ]
  },
  {
   "cell_type": "code",
   "execution_count": 59,
   "id": "754fa9ca",
   "metadata": {},
   "outputs": [],
   "source": [
    "bnb = BernoulliNB(binarize=0.0)"
   ]
  },
  {
   "cell_type": "code",
   "execution_count": 62,
   "id": "667bd03f",
   "metadata": {},
   "outputs": [
    {
     "data": {
      "text/html": [
       "<style>#sk-container-id-4 {color: black;}#sk-container-id-4 pre{padding: 0;}#sk-container-id-4 div.sk-toggleable {background-color: white;}#sk-container-id-4 label.sk-toggleable__label {cursor: pointer;display: block;width: 100%;margin-bottom: 0;padding: 0.3em;box-sizing: border-box;text-align: center;}#sk-container-id-4 label.sk-toggleable__label-arrow:before {content: \"▸\";float: left;margin-right: 0.25em;color: #696969;}#sk-container-id-4 label.sk-toggleable__label-arrow:hover:before {color: black;}#sk-container-id-4 div.sk-estimator:hover label.sk-toggleable__label-arrow:before {color: black;}#sk-container-id-4 div.sk-toggleable__content {max-height: 0;max-width: 0;overflow: hidden;text-align: left;background-color: #f0f8ff;}#sk-container-id-4 div.sk-toggleable__content pre {margin: 0.2em;color: black;border-radius: 0.25em;background-color: #f0f8ff;}#sk-container-id-4 input.sk-toggleable__control:checked~div.sk-toggleable__content {max-height: 200px;max-width: 100%;overflow: auto;}#sk-container-id-4 input.sk-toggleable__control:checked~label.sk-toggleable__label-arrow:before {content: \"▾\";}#sk-container-id-4 div.sk-estimator input.sk-toggleable__control:checked~label.sk-toggleable__label {background-color: #d4ebff;}#sk-container-id-4 div.sk-label input.sk-toggleable__control:checked~label.sk-toggleable__label {background-color: #d4ebff;}#sk-container-id-4 input.sk-hidden--visually {border: 0;clip: rect(1px 1px 1px 1px);clip: rect(1px, 1px, 1px, 1px);height: 1px;margin: -1px;overflow: hidden;padding: 0;position: absolute;width: 1px;}#sk-container-id-4 div.sk-estimator {font-family: monospace;background-color: #f0f8ff;border: 1px dotted black;border-radius: 0.25em;box-sizing: border-box;margin-bottom: 0.5em;}#sk-container-id-4 div.sk-estimator:hover {background-color: #d4ebff;}#sk-container-id-4 div.sk-parallel-item::after {content: \"\";width: 100%;border-bottom: 1px solid gray;flex-grow: 1;}#sk-container-id-4 div.sk-label:hover label.sk-toggleable__label {background-color: #d4ebff;}#sk-container-id-4 div.sk-serial::before {content: \"\";position: absolute;border-left: 1px solid gray;box-sizing: border-box;top: 0;bottom: 0;left: 50%;z-index: 0;}#sk-container-id-4 div.sk-serial {display: flex;flex-direction: column;align-items: center;background-color: white;padding-right: 0.2em;padding-left: 0.2em;position: relative;}#sk-container-id-4 div.sk-item {position: relative;z-index: 1;}#sk-container-id-4 div.sk-parallel {display: flex;align-items: stretch;justify-content: center;background-color: white;position: relative;}#sk-container-id-4 div.sk-item::before, #sk-container-id-4 div.sk-parallel-item::before {content: \"\";position: absolute;border-left: 1px solid gray;box-sizing: border-box;top: 0;bottom: 0;left: 50%;z-index: -1;}#sk-container-id-4 div.sk-parallel-item {display: flex;flex-direction: column;z-index: 1;position: relative;background-color: white;}#sk-container-id-4 div.sk-parallel-item:first-child::after {align-self: flex-end;width: 50%;}#sk-container-id-4 div.sk-parallel-item:last-child::after {align-self: flex-start;width: 50%;}#sk-container-id-4 div.sk-parallel-item:only-child::after {width: 0;}#sk-container-id-4 div.sk-dashed-wrapped {border: 1px dashed gray;margin: 0 0.4em 0.5em 0.4em;box-sizing: border-box;padding-bottom: 0.4em;background-color: white;}#sk-container-id-4 div.sk-label label {font-family: monospace;font-weight: bold;display: inline-block;line-height: 1.2em;}#sk-container-id-4 div.sk-label-container {text-align: center;}#sk-container-id-4 div.sk-container {/* jupyter's `normalize.less` sets `[hidden] { display: none; }` but bootstrap.min.css set `[hidden] { display: none !important; }` so we also need the `!important` here to be able to override the default hidden behavior on the sphinx rendered scikit-learn.org. See: https://github.com/scikit-learn/scikit-learn/issues/21755 */display: inline-block !important;position: relative;}#sk-container-id-4 div.sk-text-repr-fallback {display: none;}</style><div id=\"sk-container-id-4\" class=\"sk-top-container\"><div class=\"sk-text-repr-fallback\"><pre>BernoulliNB()</pre><b>In a Jupyter environment, please rerun this cell to show the HTML representation or trust the notebook. <br />On GitHub, the HTML representation is unable to render, please try loading this page with nbviewer.org.</b></div><div class=\"sk-container\" hidden><div class=\"sk-item\"><div class=\"sk-estimator sk-toggleable\"><input class=\"sk-toggleable__control sk-hidden--visually\" id=\"sk-estimator-id-4\" type=\"checkbox\" checked><label for=\"sk-estimator-id-4\" class=\"sk-toggleable__label sk-toggleable__label-arrow\">BernoulliNB</label><div class=\"sk-toggleable__content\"><pre>BernoulliNB()</pre></div></div></div></div></div>"
      ],
      "text/plain": [
       "BernoulliNB()"
      ]
     },
     "execution_count": 62,
     "metadata": {},
     "output_type": "execute_result"
    }
   ],
   "source": [
    "bnb.fit(X_train,y_train)"
   ]
  },
  {
   "cell_type": "code",
   "execution_count": 75,
   "id": "835692a0",
   "metadata": {},
   "outputs": [
    {
     "data": {
      "text/plain": [
       "array([[9.99995956e-01, 4.04360515e-06],\n",
       "       [9.99801974e-01, 1.98025836e-04],\n",
       "       [2.00515155e-03, 9.97994848e-01],\n",
       "       [9.68121467e-01, 3.18785331e-02],\n",
       "       [2.21303135e-03, 9.97786969e-01],\n",
       "       [9.99982056e-01, 1.79444638e-05],\n",
       "       [9.85879107e-01, 1.41208930e-02],\n",
       "       [9.91237722e-01, 8.76227751e-03],\n",
       "       [6.79239927e-01, 3.20760073e-01],\n",
       "       [2.64204685e-02, 9.73579531e-01],\n",
       "       [9.99999998e-01, 1.58202954e-09],\n",
       "       [2.94184219e-04, 9.99705816e-01],\n",
       "       [9.99999979e-01, 2.08659626e-08],\n",
       "       [9.98142723e-01, 1.85727714e-03],\n",
       "       [4.80755686e-01, 5.19244314e-01],\n",
       "       [3.88642616e-11, 1.00000000e+00],\n",
       "       [1.92951840e-02, 9.80704816e-01],\n",
       "       [9.97419373e-01, 2.58062715e-03],\n",
       "       [2.50499475e-01, 7.49500525e-01],\n",
       "       [9.94873578e-01, 5.12642244e-03],\n",
       "       [1.08441738e-02, 9.89155826e-01],\n",
       "       [4.36269787e-03, 9.95637302e-01],\n",
       "       [9.99999695e-01, 3.04528245e-07],\n",
       "       [9.99999942e-01, 5.81991598e-08],\n",
       "       [1.96997610e-01, 8.03002390e-01],\n",
       "       [4.33095165e-03, 9.95669048e-01],\n",
       "       [9.99999924e-01, 7.55117097e-08],\n",
       "       [3.29284670e-06, 9.99996707e-01],\n",
       "       [1.11749263e-03, 9.98882507e-01],\n",
       "       [8.36122972e-10, 9.99999999e-01],\n",
       "       [9.97846265e-01, 2.15373547e-03],\n",
       "       [9.99979724e-01, 2.02762041e-05],\n",
       "       [9.99989958e-01, 1.00420295e-05],\n",
       "       [4.20415719e-03, 9.95795843e-01],\n",
       "       [9.19821778e-10, 9.99999999e-01],\n",
       "       [3.58192600e-03, 9.96418074e-01],\n",
       "       [9.99999466e-01, 5.33934250e-07],\n",
       "       [5.08826652e-06, 9.99994912e-01],\n",
       "       [9.99986377e-01, 1.36232357e-05],\n",
       "       [5.94469076e-01, 4.05530924e-01],\n",
       "       [7.49901167e-03, 9.92500988e-01],\n",
       "       [3.85027399e-02, 9.61497260e-01],\n",
       "       [9.99819366e-01, 1.80633804e-04],\n",
       "       [2.52458228e-01, 7.47541772e-01],\n",
       "       [9.99973315e-01, 2.66849324e-05],\n",
       "       [1.19001697e-13, 1.00000000e+00],\n",
       "       [8.44979208e-01, 1.55020792e-01],\n",
       "       [9.99999996e-01, 4.47660933e-09],\n",
       "       [9.20801006e-01, 7.91989936e-02],\n",
       "       [1.17376919e-03, 9.98826231e-01],\n",
       "       [8.37908668e-04, 9.99162091e-01],\n",
       "       [9.99995255e-01, 4.74452481e-06],\n",
       "       [9.73844188e-03, 9.90261558e-01],\n",
       "       [8.82898030e-13, 1.00000000e+00],\n",
       "       [9.99999853e-01, 1.47050383e-07],\n",
       "       [9.99999769e-01, 2.30945215e-07],\n",
       "       [9.99987531e-01, 1.24691243e-05],\n",
       "       [9.99414951e-01, 5.85049166e-04],\n",
       "       [4.79529903e-03, 9.95204701e-01],\n",
       "       [9.99843092e-01, 1.56907746e-04],\n",
       "       [3.06633141e-02, 9.69336686e-01],\n",
       "       [9.99642841e-01, 3.57159357e-04],\n",
       "       [4.65610862e-03, 9.95343891e-01],\n",
       "       [9.94409515e-01, 5.59048454e-03],\n",
       "       [9.83217157e-01, 1.67828428e-02],\n",
       "       [9.99937215e-01, 6.27846697e-05],\n",
       "       [2.03754403e-01, 7.96245597e-01],\n",
       "       [8.71362216e-01, 1.28637784e-01],\n",
       "       [1.15401539e-03, 9.98845985e-01],\n",
       "       [9.99657383e-01, 3.42617075e-04],\n",
       "       [9.99996129e-01, 3.87051250e-06],\n",
       "       [9.99999854e-01, 1.46183656e-07],\n",
       "       [7.56071800e-01, 2.43928200e-01],\n",
       "       [1.48467687e-12, 1.00000000e+00],\n",
       "       [5.64989599e-06, 9.99994350e-01],\n",
       "       [9.64325728e-01, 3.56742724e-02],\n",
       "       [9.79444844e-01, 2.05551561e-02],\n",
       "       [4.75440284e-04, 9.99524560e-01],\n",
       "       [9.99982805e-01, 1.71945912e-05],\n",
       "       [5.58991034e-03, 9.94410090e-01],\n",
       "       [9.99999967e-01, 3.28748937e-08],\n",
       "       [4.97033102e-04, 9.99502967e-01],\n",
       "       [1.16830893e-02, 9.88316911e-01],\n",
       "       [1.97689189e-04, 9.99802311e-01],\n",
       "       [9.99976166e-01, 2.38342243e-05],\n",
       "       [1.00000000e+00, 1.79980500e-12],\n",
       "       [9.99987394e-01, 1.26064146e-05],\n",
       "       [1.06541330e-07, 9.99999893e-01],\n",
       "       [9.99965511e-01, 3.44893826e-05],\n",
       "       [9.05213709e-01, 9.47862909e-02],\n",
       "       [9.89239091e-01, 1.07609095e-02],\n",
       "       [9.49029235e-01, 5.09707650e-02],\n",
       "       [9.98887859e-01, 1.11214108e-03],\n",
       "       [9.99967177e-01, 3.28225335e-05],\n",
       "       [9.43555534e-01, 5.64444664e-02],\n",
       "       [1.54181985e-02, 9.84581802e-01],\n",
       "       [6.30448197e-07, 9.99999370e-01],\n",
       "       [3.58020361e-05, 9.99964198e-01],\n",
       "       [5.52700134e-01, 4.47299866e-01],\n",
       "       [9.90796360e-01, 9.20364041e-03],\n",
       "       [1.50155035e-02, 9.84984497e-01],\n",
       "       [2.80589373e-07, 9.99999719e-01],\n",
       "       [7.39676322e-06, 9.99992603e-01],\n",
       "       [9.99990436e-01, 9.56411679e-06],\n",
       "       [9.99962748e-01, 3.72521120e-05],\n",
       "       [1.05272241e-04, 9.99894728e-01],\n",
       "       [4.92873864e-03, 9.95071261e-01],\n",
       "       [9.03500858e-01, 9.64991418e-02],\n",
       "       [9.92685642e-01, 7.31435835e-03],\n",
       "       [9.92183139e-01, 7.81686146e-03],\n",
       "       [9.99995589e-01, 4.41107381e-06],\n",
       "       [1.63589242e-12, 1.00000000e+00],\n",
       "       [9.99999988e-01, 1.22743052e-08],\n",
       "       [9.47999852e-01, 5.20001481e-02],\n",
       "       [4.92121263e-04, 9.99507879e-01],\n",
       "       [9.99999991e-01, 8.91330954e-09],\n",
       "       [9.99926408e-01, 7.35915854e-05],\n",
       "       [2.89525850e-03, 9.97104742e-01],\n",
       "       [9.99983494e-01, 1.65061384e-05],\n",
       "       [9.99996471e-01, 3.52866588e-06],\n",
       "       [9.99999999e-01, 8.77097019e-10],\n",
       "       [2.35069992e-05, 9.99976493e-01],\n",
       "       [9.95365572e-01, 4.63442811e-03],\n",
       "       [4.95398025e-06, 9.99995046e-01],\n",
       "       [5.11413436e-01, 4.88586564e-01],\n",
       "       [1.43276067e-03, 9.98567239e-01],\n",
       "       [1.76511520e-08, 9.99999982e-01],\n",
       "       [9.89429260e-01, 1.05707404e-02],\n",
       "       [9.99815196e-01, 1.84803967e-04],\n",
       "       [9.99968289e-01, 3.17110483e-05],\n",
       "       [1.20860112e-04, 9.99879140e-01],\n",
       "       [9.99471314e-01, 5.28686340e-04],\n",
       "       [9.99999933e-01, 6.65567317e-08],\n",
       "       [9.99543648e-01, 4.56351572e-04],\n",
       "       [7.36290562e-03, 9.92637094e-01],\n",
       "       [9.98057376e-01, 1.94262383e-03],\n",
       "       [7.79441252e-01, 2.20558748e-01],\n",
       "       [1.21645607e-02, 9.87835439e-01],\n",
       "       [4.61387262e-07, 9.99999539e-01],\n",
       "       [8.74197350e-09, 9.99999991e-01],\n",
       "       [9.99946945e-01, 5.30553954e-05],\n",
       "       [1.37643249e-03, 9.98623568e-01],\n",
       "       [2.18961352e-07, 9.99999781e-01],\n",
       "       [1.80555606e-07, 9.99999819e-01],\n",
       "       [9.99882022e-01, 1.17978048e-04],\n",
       "       [1.23847641e-03, 9.98761524e-01],\n",
       "       [2.76602076e-13, 1.00000000e+00],\n",
       "       [9.99984365e-01, 1.56352384e-05],\n",
       "       [9.97459478e-01, 2.54052178e-03],\n",
       "       [7.95087434e-01, 2.04912566e-01],\n",
       "       [8.74922164e-01, 1.25077836e-01],\n",
       "       [9.99999999e-01, 7.90828085e-10],\n",
       "       [8.40453593e-01, 1.59546407e-01],\n",
       "       [8.05418081e-01, 1.94581919e-01],\n",
       "       [9.93378234e-01, 6.62176650e-03],\n",
       "       [9.97286447e-01, 2.71355325e-03],\n",
       "       [9.99638126e-01, 3.61874162e-04],\n",
       "       [4.33611470e-04, 9.99566389e-01],\n",
       "       [9.94873224e-01, 5.12677586e-03],\n",
       "       [6.58043343e-01, 3.41956657e-01],\n",
       "       [9.05704149e-01, 9.42958515e-02],\n",
       "       [8.86036441e-01, 1.13963559e-01],\n",
       "       [2.78716250e-01, 7.21283750e-01],\n",
       "       [9.99758291e-01, 2.41709204e-04],\n",
       "       [9.42844437e-01, 5.71555633e-02],\n",
       "       [4.31548205e-04, 9.99568452e-01],\n",
       "       [1.51622746e-04, 9.99848377e-01],\n",
       "       [9.18227444e-01, 8.17725565e-02],\n",
       "       [2.83643502e-06, 9.99997164e-01],\n",
       "       [9.97156260e-01, 2.84373991e-03],\n",
       "       [8.26491372e-06, 9.99991735e-01],\n",
       "       [5.08585245e-07, 9.99999491e-01],\n",
       "       [9.88739439e-01, 1.12605608e-02],\n",
       "       [9.99378018e-01, 6.21981864e-04],\n",
       "       [9.99999974e-01, 2.63902896e-08],\n",
       "       [9.99929663e-01, 7.03368389e-05],\n",
       "       [9.25334753e-01, 7.46652474e-02],\n",
       "       [9.99184889e-01, 8.15110860e-04],\n",
       "       [9.99979310e-01, 2.06896066e-05],\n",
       "       [9.91092754e-01, 8.90724596e-03],\n",
       "       [9.99612396e-01, 3.87604056e-04],\n",
       "       [4.72782911e-01, 5.27217089e-01],\n",
       "       [9.90117066e-01, 9.88293384e-03],\n",
       "       [6.85961927e-01, 3.14038073e-01],\n",
       "       [1.00000000e+00, 1.23206640e-11],\n",
       "       [1.43008142e-03, 9.98569919e-01],\n",
       "       [1.20133660e-01, 8.79866340e-01],\n",
       "       [9.98118082e-01, 1.88191756e-03],\n",
       "       [1.38611531e-01, 8.61388469e-01],\n",
       "       [4.62474690e-02, 9.53752531e-01],\n",
       "       [1.85168901e-03, 9.98148311e-01],\n",
       "       [7.52653839e-01, 2.47346161e-01],\n",
       "       [3.85458065e-04, 9.99614542e-01],\n",
       "       [5.32320429e-01, 4.67679571e-01],\n",
       "       [9.99999576e-01, 4.23969157e-07],\n",
       "       [9.45753612e-01, 5.42463883e-02],\n",
       "       [9.90540846e-01, 9.45915391e-03],\n",
       "       [9.99845052e-01, 1.54948295e-04],\n",
       "       [9.99989030e-01, 1.09704361e-05],\n",
       "       [9.98982107e-01, 1.01789293e-03]])"
      ]
     },
     "execution_count": 75,
     "metadata": {},
     "output_type": "execute_result"
    }
   ],
   "source": [
    "bnb.predict_proba(X_test)"
   ]
  },
  {
   "cell_type": "code",
   "execution_count": 68,
   "id": "e22093c0",
   "metadata": {},
   "outputs": [
    {
     "data": {
      "text/plain": [
       "array(['negative', 'negative', 'positive', 'negative', 'positive',\n",
       "       'negative', 'negative', 'negative', 'negative', 'positive',\n",
       "       'negative', 'positive', 'negative', 'negative', 'positive',\n",
       "       'positive', 'positive', 'negative', 'positive', 'negative',\n",
       "       'positive', 'positive', 'negative', 'negative', 'positive',\n",
       "       'positive', 'negative', 'positive', 'positive', 'positive',\n",
       "       'negative', 'negative', 'negative', 'positive', 'positive',\n",
       "       'positive', 'negative', 'positive', 'negative', 'negative',\n",
       "       'positive', 'positive', 'negative', 'positive', 'negative',\n",
       "       'positive', 'negative', 'negative', 'negative', 'positive',\n",
       "       'positive', 'negative', 'positive', 'positive', 'negative',\n",
       "       'negative', 'negative', 'negative', 'positive', 'negative',\n",
       "       'positive', 'negative', 'positive', 'negative', 'negative',\n",
       "       'negative', 'positive', 'negative', 'positive', 'negative',\n",
       "       'negative', 'negative', 'negative', 'positive', 'positive',\n",
       "       'negative', 'negative', 'positive', 'negative', 'positive',\n",
       "       'negative', 'positive', 'positive', 'positive', 'negative',\n",
       "       'negative', 'negative', 'positive', 'negative', 'negative',\n",
       "       'negative', 'negative', 'negative', 'negative', 'negative',\n",
       "       'positive', 'positive', 'positive', 'negative', 'negative',\n",
       "       'positive', 'positive', 'positive', 'negative', 'negative',\n",
       "       'positive', 'positive', 'negative', 'negative', 'negative',\n",
       "       'negative', 'positive', 'negative', 'negative', 'positive',\n",
       "       'negative', 'negative', 'positive', 'negative', 'negative',\n",
       "       'negative', 'positive', 'negative', 'positive', 'negative',\n",
       "       'positive', 'positive', 'negative', 'negative', 'negative',\n",
       "       'positive', 'negative', 'negative', 'negative', 'positive',\n",
       "       'negative', 'negative', 'positive', 'positive', 'positive',\n",
       "       'negative', 'positive', 'positive', 'positive', 'negative',\n",
       "       'positive', 'positive', 'negative', 'negative', 'negative',\n",
       "       'negative', 'negative', 'negative', 'negative', 'negative',\n",
       "       'negative', 'negative', 'positive', 'negative', 'negative',\n",
       "       'negative', 'negative', 'positive', 'negative', 'negative',\n",
       "       'positive', 'positive', 'negative', 'positive', 'negative',\n",
       "       'positive', 'positive', 'negative', 'negative', 'negative',\n",
       "       'negative', 'negative', 'negative', 'negative', 'negative',\n",
       "       'negative', 'positive', 'negative', 'negative', 'negative',\n",
       "       'positive', 'positive', 'negative', 'positive', 'positive',\n",
       "       'positive', 'negative', 'positive', 'negative', 'negative',\n",
       "       'negative', 'negative', 'negative', 'negative', 'negative'],\n",
       "      dtype='<U8')"
      ]
     },
     "execution_count": 68,
     "metadata": {},
     "output_type": "execute_result"
    }
   ],
   "source": [
    "bnb.predict(X_test)"
   ]
  },
  {
   "cell_type": "code",
   "execution_count": 71,
   "id": "a4ec9eb5",
   "metadata": {},
   "outputs": [
    {
     "data": {
      "text/plain": [
       "0.79"
      ]
     },
     "execution_count": 71,
     "metadata": {},
     "output_type": "execute_result"
    }
   ],
   "source": [
    "bnb.score(X_test,y_test)"
   ]
  },
  {
   "cell_type": "markdown",
   "id": "1469f285",
   "metadata": {},
   "source": [
    "# Generating Confusion Matrix "
   ]
  },
  {
   "cell_type": "code",
   "execution_count": 79,
   "id": "729add6c",
   "metadata": {},
   "outputs": [
    {
     "data": {
      "text/plain": [
       "'\\nACCURACY = (TP/TN)/Toal Examples\\nPRECISION = TP/(TP+FP)\\nRECALL = TP/(TP+FN)\\nF-MEASURE = 2*TP/(2*TP+FP+FN)\\n'"
      ]
     },
     "execution_count": 79,
     "metadata": {},
     "output_type": "execute_result"
    }
   ],
   "source": [
    "\"\"\"\n",
    "ACCURACY = (TP/TN)/Toal Examples\n",
    "PRECISION = TP/(TP+FP)\n",
    "RECALL = TP/(TP+FN)\n",
    "F-MEASURE = 2*TP/(2*TP+FP+FN)\n",
    "\"\"\""
   ]
  },
  {
   "cell_type": "code",
   "execution_count": null,
   "id": "8aedab84",
   "metadata": {},
   "outputs": [],
   "source": [
    "from sklearn"
   ]
  }
 ],
 "metadata": {
  "kernelspec": {
   "display_name": "Python 3 (ipykernel)",
   "language": "python",
   "name": "python3"
  },
  "language_info": {
   "codemirror_mode": {
    "name": "ipython",
    "version": 3
   },
   "file_extension": ".py",
   "mimetype": "text/x-python",
   "name": "python",
   "nbconvert_exporter": "python",
   "pygments_lexer": "ipython3",
   "version": "3.11.4"
  }
 },
 "nbformat": 4,
 "nbformat_minor": 5
}
